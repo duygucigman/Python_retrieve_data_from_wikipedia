{
 "cells": [
  {
   "cell_type": "code",
   "execution_count": 2,
   "metadata": {},
   "outputs": [],
   "source": [
    "#importing required libraries\n",
    "from bs4 import BeautifulSoup\n",
    "import requests\n",
    "import pandas as pd"
   ]
  },
  {
   "cell_type": "code",
   "execution_count": 37,
   "metadata": {},
   "outputs": [],
   "source": [
    "#retrieving data from wikipedia\n",
    "URL='https://en.wikipedia.org/wiki/List_of_postal_codes_of_Canada:_M'\n",
    "response =requests.get(URL)\n",
    "soup=BeautifulSoup(response.text, 'html.parser')\n",
    "table = soup.find('table',{'class':'wikitable sortable'}).tbody\n",
    "\n",
    "#converting the data to dataframe\n",
    "rows =table.find_all('tr')\n",
    "columns =[v.text.replace('\\n','') for v in rows[0].find_all('th')]\n",
    "\n",
    "df = pd.DataFrame(columns=columns)\n",
    "\n",
    "for i in range(1,len(rows)):\n",
    "    tds = rows[i].find_all('td')\n",
    "    \n",
    "    if len(tds)==4:\n",
    "       values=[tds[0].text , tds[1].text,'' , tds[2].text,'' ,tds[3].text.replace('\\n','').replace('\\xa0','')]\n",
    "    else:\n",
    "        values= [td.text.replace('\\n', '').replace('\\xa0','') for td in tds]\n",
    "    \n",
    "    df=df.append(pd.Series(values, index=columns), ignore_index=True)\n",
    "\n",
    "#convert dataframe to json\n",
    "df.to_json(r'C:\\Users\\xxx\\ExtractionWikifediaToJSON.json2', orient='split' ,index=False)"
   ]
  }
 ],
 "metadata": {
  "kernelspec": {
   "display_name": "Python 3",
   "language": "python",
   "name": "python3"
  },
  "language_info": {
   "codemirror_mode": {
    "name": "ipython",
    "version": 3
   },
   "file_extension": ".py",
   "mimetype": "text/x-python",
   "name": "python",
   "nbconvert_exporter": "python",
   "pygments_lexer": "ipython3",
   "version": "3.7.3"
  }
 },
 "nbformat": 4,
 "nbformat_minor": 2
}
